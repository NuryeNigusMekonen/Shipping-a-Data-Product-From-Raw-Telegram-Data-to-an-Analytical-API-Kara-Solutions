{
 "cells": [
  {
   "cell_type": "code",
   "execution_count": null,
   "id": "394b0e22",
   "metadata": {},
   "outputs": [
    {
     "name": "stdout",
     "output_type": "stream",
     "text": [
      "Current working directory: /home/nurye/Desktop/10_Academy/week_7/Shipping-a-Data-Product-From-Raw-Telegram-Data-to-an-Analytical-API-Kara-Solutions\n"
     ]
    }
   ],
   "source": [
    "# Setup environment and patch asyncio\n",
    "import nest_asyncio\n",
    "nest_asyncio.apply()\n",
    "import os\n",
    "import sys\n",
    "# Set project root \n",
    "project_root = \"/home/nurye/Desktop/10_Academy/week_7/Shipping-a-Data-Product-From-Raw-Telegram-Data-to-an-Analytical-API-Kara-Solutions\"\n",
    "os.chdir(project_root)\n",
    "sys.path.append(\".\")\n",
    "print(\"Current working directory:\", os.getcwd())"
   ]
  },
  {
   "cell_type": "code",
   "execution_count": null,
   "id": "7a2c647b",
   "metadata": {},
   "outputs": [],
   "source": [
    "# Import your async main scraper function\n",
    "from src.scraper.scraper import main"
   ]
  },
  {
   "cell_type": "code",
   "execution_count": null,
   "id": "a1774d05",
   "metadata": {},
   "outputs": [],
   "source": [
    "# Run the scraper coroutine\n",
    "await main()"
   ]
  }
 ],
 "metadata": {
  "kernelspec": {
   "display_name": "SD-venv",
   "language": "python",
   "name": "python3"
  },
  "language_info": {
   "codemirror_mode": {
    "name": "ipython",
    "version": 3
   },
   "file_extension": ".py",
   "mimetype": "text/x-python",
   "name": "python",
   "nbconvert_exporter": "python",
   "pygments_lexer": "ipython3",
   "version": "3.10.18"
  }
 },
 "nbformat": 4,
 "nbformat_minor": 5
}
